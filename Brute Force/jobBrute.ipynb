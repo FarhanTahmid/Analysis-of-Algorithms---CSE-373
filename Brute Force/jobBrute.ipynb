{
 "cells": [
  {
   "cell_type": "code",
   "execution_count": 8,
   "metadata": {},
   "outputs": [],
   "source": [
    "import itertools\n",
    "import random\n",
    "import time\n",
    "import matplotlib.pyplot as plt"
   ]
  },
  {
   "cell_type": "code",
   "execution_count": 9,
   "metadata": {},
   "outputs": [],
   "source": [
    "def generateRandomJobs(n):\n",
    "    \n",
    "    jobs = []\n",
    "\n",
    "    for i in range(n):\n",
    "        job_id = random.randint(1,1000)\n",
    "        deadline = random.randint(1, 2000)\n",
    "        profit = random.randint(0,500)\n",
    "        job_tuple = (job_id, deadline, profit)\n",
    "        jobs.append(job_tuple)\n",
    "\n",
    "    return jobs"
   ]
  },
  {
   "cell_type": "code",
   "execution_count": 10,
   "metadata": {},
   "outputs": [],
   "source": [
    "def get_job_deadline(job):\n",
    "    return job[1]"
   ]
  },
  {
   "cell_type": "code",
   "execution_count": 12,
   "metadata": {},
   "outputs": [],
   "source": [
    "def resultOfAlgorithm(numberOfJobs,timeRequired):\n",
    "    #plotting the graph\n",
    "    plt.plot(numberOfJobs,timeRequired)\n",
    "    \n",
    "    plt.xlabel(\"Number Of Jobs\")\n",
    "    plt.ylabel(\"Time Required\")\n",
    "    plt.title(\"Job Scheduling with Brute Force Algorithm\")\n",
    "    plt.show()"
   ]
  },
  {
   "cell_type": "code",
   "execution_count": 13,
   "metadata": {},
   "outputs": [
    {
     "name": "stdout",
     "output_type": "stream",
     "text": [
      "Note: Enter 0 to end the program and generate Results\n",
      "10\n",
      "Max profit will be: 1660\n",
      "Job sequence of Execution will be: [974, 939, 137, 797, 1, 253, 594, 58, 898, 20]\n",
      "20\n"
     ]
    }
   ],
   "source": [
    "print(\"Note: Enter 0 to end the program and generate Results\")\n",
    "\n",
    "#initializing matrix for number of jobs and time required\n",
    "listNumber0fJobs=[]\n",
    "timeRequired=[]\n",
    "\n",
    "while True:\n",
    "    #Enter number of jobs you want to generate\n",
    "    numberOfJobs=int(input(\"Enter the number of jobs you want to generate: \"))\n",
    "    if(numberOfJobs==0):\n",
    "        resultOfAlgorithm(numberOfJobs=listNumber0fJobs,timeRequired=timeRequired)\n",
    "        break\n",
    "    print(numberOfJobs)\n",
    "    listNumber0fJobs.append(numberOfJobs)\n",
    "\n",
    "    #Generate random jobs using functions\n",
    "    jobs=generateRandomJobs(numberOfJobs)\n",
    "    \n",
    "    startOfExecution=time.time()\n",
    "    #implementing brute force Algorithm\n",
    "    maxProfit,jobSequence=jobSchedulingUsingBruteForce(jobs=jobs)\n",
    "    print(f\"Max profit will be: {maxProfit}\")\n",
    "    print(f\"Job sequence of Execution will be: {jobSequence}\")\n",
    "    endOfExecution=time.time()\n",
    "    timeRequired.append(round(endOfExecution-startOfExecution,4))"
   ]
  }
 ],
 "metadata": {
  "kernelspec": {
   "display_name": "base",
   "language": "python",
   "name": "python3"
  },
  "language_info": {
   "codemirror_mode": {
    "name": "ipython",
    "version": 3
   },
   "file_extension": ".py",
   "mimetype": "text/x-python",
   "name": "python",
   "nbconvert_exporter": "python",
   "pygments_lexer": "ipython3",
   "version": "3.9.12"
  },
  "orig_nbformat": 4
 },
 "nbformat": 4,
 "nbformat_minor": 2
}
