{
 "cells": [
  {
   "cell_type": "code",
   "execution_count": 2,
   "metadata": {},
   "outputs": [],
   "source": [
    "import itertools\n",
    "import random\n",
    "import time\n",
    "import matplotlib.pyplot as plt"
   ]
  },
  {
   "cell_type": "code",
   "execution_count": 3,
   "metadata": {},
   "outputs": [],
   "source": [
    "def generateRandomJobs(n):\n",
    "    \n",
    "    jobs = []\n",
    "\n",
    "    for i in range(n):\n",
    "        job_id = random.randint(1,1000)\n",
    "        deadline = random.randint(1, 2000)\n",
    "        profit = random.randint(0,500)\n",
    "        job_tuple = (job_id, deadline, profit)\n",
    "        jobs.append(job_tuple)\n",
    "\n",
    "    return jobs"
   ]
  },
  {
   "cell_type": "code",
   "execution_count": 4,
   "metadata": {},
   "outputs": [],
   "source": [
    "def get_job_deadline(job):\n",
    "    return job[1]"
   ]
  },
  {
   "cell_type": "code",
   "execution_count": 5,
   "metadata": {},
   "outputs": [],
   "source": [
    "def jobSchedulingUsingBruteForce(jobs):\n",
    "    # Generate all possible permutations of the given jobs\n",
    "    job_permutations = itertools.permutations(jobs)\n",
    "\n",
    "    # Initialize the maximum profit and the sequence of jobs\n",
    "    max_profit = 0\n",
    "    max_job_sequence = []\n",
    "\n",
    "    # For each permutation, compute the profit and select the one with the maximum profit\n",
    "    for job_sequence in job_permutations:\n",
    "        # Initialize the boolean array indicating whether a slot is available or not\n",
    "        n = max(job_sequence, key=get_job_deadline)[1]\n",
    "        slots = [True] * n\n",
    "\n",
    "        # Initialize the total profit\n",
    "        total_profit = 0\n",
    "\n",
    "        # Traverse through the jobs in the current permutation\n",
    "        for job in job_sequence:\n",
    "            # Starting from the deadline of the current job, check if there is a slot available\n",
    "            for i in range(job[1] - 1, -1, -1):\n",
    "                if slots[i]:\n",
    "                    # If there is a slot available, mark the slot as unavailable\n",
    "                    slots[i] = False\n",
    "                    # Add the profit of the current job to the total profit\n",
    "                    total_profit += job[2]\n",
    "                    break\n",
    "\n",
    "            # If no slot is available, ignore the current job\n",
    "\n",
    "        # Select the permutation with the maximum profit\n",
    "        if total_profit > max_profit:\n",
    "            max_profit = total_profit\n",
    "            max_job_sequence = [job[0] for job in job_sequence]\n",
    "\n",
    "    return max_profit, max_job_sequence"
   ]
  },
  {
   "cell_type": "code",
   "execution_count": 6,
   "metadata": {},
   "outputs": [],
   "source": [
    "def resultOfAlgorithm(numberOfJobs,timeRequired):\n",
    "    #plotting the graph\n",
    "    plt.plot(numberOfJobs,timeRequired)\n",
    "    \n",
    "    plt.xlabel(\"Number Of Jobs\")\n",
    "    plt.ylabel(\"Time Required\")\n",
    "    plt.title(\"Job Scheduling with Brute Force Algorithm\")\n",
    "    plt.show()"
   ]
  },
  {
   "cell_type": "code",
   "execution_count": 7,
   "metadata": {},
   "outputs": [
    {
     "name": "stdout",
     "output_type": "stream",
     "text": [
      "Note: Enter 0 to end the program and generate Results\n",
      "5\n",
      "Max profit will be: 1192\n",
      "Job sequence of Execution will be: [820, 643, 172, 694, 746]\n",
      "9\n",
      "Max profit will be: 2879\n",
      "Job sequence of Execution will be: [379, 700, 56, 579, 425, 489, 435, 475, 183]\n",
      "12\n"
     ]
    }
   ],
   "source": [
    "print(\"Note: Enter 0 to end the program and generate Results\")\n",
    "\n",
    "#initializing matrix for number of jobs and time required\n",
    "listNumber0fJobs=[]\n",
    "timeRequired=[]\n",
    "\n",
    "while True:\n",
    "    #Enter number of jobs you want to generate\n",
    "    numberOfJobs=int(input(\"Enter the number of jobs you want to generate: \"))\n",
    "    if(numberOfJobs==0):\n",
    "        resultOfAlgorithm(numberOfJobs=listNumber0fJobs,timeRequired=timeRequired)\n",
    "        break\n",
    "    print(numberOfJobs)\n",
    "    listNumber0fJobs.append(numberOfJobs)\n",
    "\n",
    "    #Generate random jobs using functions\n",
    "    jobs=generateRandomJobs(numberOfJobs)\n",
    "    \n",
    "    startOfExecution=time.time()\n",
    "    #implementing brute force Algorithm\n",
    "    maxProfit,jobSequence=jobSchedulingUsingBruteForce(jobs=jobs)\n",
    "    print(f\"Max profit will be: {maxProfit}\")\n",
    "    print(f\"Job sequence of Execution will be: {jobSequence}\")\n",
    "    endOfExecution=time.time()\n",
    "    timeRequired.append(round(endOfExecution-startOfExecution,4))"
   ]
  },
  {
   "cell_type": "code",
   "execution_count": null,
   "metadata": {},
   "outputs": [],
   "source": []
  },
  {
   "cell_type": "code",
   "execution_count": null,
   "metadata": {},
   "outputs": [],
   "source": []
  }
 ],
 "metadata": {
  "kernelspec": {
   "display_name": "base",
   "language": "python",
   "name": "python3"
  },
  "language_info": {
   "codemirror_mode": {
    "name": "ipython",
    "version": 3
   },
   "file_extension": ".py",
   "mimetype": "text/x-python",
   "name": "python",
   "nbconvert_exporter": "python",
   "pygments_lexer": "ipython3",
   "version": "3.9.12"
  },
  "orig_nbformat": 4
 },
 "nbformat": 4,
 "nbformat_minor": 2
}
